{
 "cells": [
  {
   "cell_type": "code",
   "execution_count": 1,
   "id": "7e42520f-c347-47ab-b492-3722e16ef08d",
   "metadata": {
    "id": "7e42520f-c347-47ab-b492-3722e16ef08d"
   },
   "outputs": [],
   "source": [
    "import os\n",
    "import pandas as pd\n",
    "from PIL import Image\n",
    "import torch\n",
    "import torch.nn as nn\n",
    "import torch.optim as optim\n",
    "import torchvision\n",
    "from torchvision import datasets, transforms\n",
    "from efficientnet_pytorch import EfficientNet"
   ]
  },
  {
   "cell_type": "code",
   "execution_count": 2,
   "id": "1OmWDV1jXD9u",
   "metadata": {
    "id": "1OmWDV1jXD9u"
   },
   "outputs": [],
   "source": [
    "data_transforms = transforms.Compose([\n",
    "    transforms.Resize((224, 224)),\n",
    "    transforms.ToTensor(),\n",
    "    transforms.Normalize(mean=[0.485, 0.456, 0.406], std=[0.229, 0.224, 0.225])\n",
    "])"
   ]
  },
  {
   "cell_type": "code",
   "execution_count": 3,
   "id": "9x7FYYpVXDRs",
   "metadata": {
    "id": "9x7FYYpVXDRs"
   },
   "outputs": [],
   "source": [
    "class CustomDataset(torch.utils.data.Dataset):\n",
    "    def __init__(self, csv_file, root_dir, transform=None):\n",
    "        self.data = pd.read_csv(csv_file)\n",
    "        self.root_dir = root_dir\n",
    "        self.transform = transform\n",
    "\n",
    "        self.classes = self.data['hotel_id'].unique().tolist()\n",
    "\n",
    "    def __len__(self):\n",
    "        return len(self.data)\n",
    "\n",
    "    def __getitem__(self, idx):\n",
    "        img_name = os.path.join(self.root_dir, str(self.data.iloc[idx, 1]), str(self.data.iloc[idx, 0]))\n",
    "        image = Image.open(img_name).convert(\"RGB\")\n",
    "        label = self.classes.index(self.data.iloc[idx, 1])\n",
    "        \n",
    "        if self.transform:\n",
    "            image = self.transform(image)\n",
    "\n",
    "        return image, label"
   ]
  },
  {
   "cell_type": "code",
   "execution_count": 4,
   "id": "7433c467-aab1-4e24-a5d8-c9cfe79f203d",
   "metadata": {
    "id": "7433c467-aab1-4e24-a5d8-c9cfe79f203d"
   },
   "outputs": [],
   "source": [
    "# best_checkpoint_path = os.path.join(\"checkpoints\", \"efficientnet-b0_best_checkpoint.pth\")\n",
    "\n",
    "# model.load_state_dict(torch.load(best_checkpoint_path))\n",
    "\n",
    "# model.eval()\n",
    "\n",
    "# val_dataset = CustomDataset('validation.csv', 'final/validation_images', transform=data_transforms)\n",
    "# val_loader = torch.utils.data.DataLoader(val_dataset, batch_size=32, shuffle=False)\n",
    "\n",
    "# correct = 0\n",
    "# total = 0\n",
    "\n",
    "# # Disable gradient calculation for evaluation\n",
    "# with torch.no_grad():\n",
    "#     for images, labels in val_loader:\n",
    "#         images = images.to(device)\n",
    "#         labels = labels.to(device)\n",
    "#         outputs = model(images)\n",
    "#         _, predicted = torch.max(outputs.data, 1)\n",
    "#         total += labels.size(0)\n",
    "#         correct += (predicted == labels).sum().item()\n",
    "\n",
    "# accuracy = 100 * correct / total\n",
    "# print(f\"Best Model Validation Accuracy: {accuracy:.2f}%\")\n"
   ]
  },
  {
   "cell_type": "code",
   "execution_count": 6,
   "id": "ThmHCg68VcSo",
   "metadata": {
    "id": "ThmHCg68VcSo"
   },
   "outputs": [
    {
     "name": "stdout",
     "output_type": "stream",
     "text": [
      "Loaded pretrained weights for efficientnet-b0\n",
      "Validation Accuracy: 11.90%\n"
     ]
    }
   ],
   "source": [
    "train_dataset = CustomDataset('train.csv', 'final/train_images', transform=data_transforms)\n",
    "\n",
    "best_checkpoint_path = os.path.join(\"checkpoints\", \"efficientnet-b0_best_checkpoint.pth\")\n",
    "device = torch.device(\"cuda:0\" if torch.cuda.is_available() else \"cpu\")\n",
    "\n",
    "best_model = EfficientNet.from_pretrained('efficientnet-b0')\n",
    "num_features = best_model._fc.in_features \n",
    "best_model._fc = nn.Linear(num_features, len(train_dataset.classes))\n",
    "best_model.load_state_dict(torch.load(best_checkpoint_path))\n",
    "best_model.to(device)\n",
    "\n",
    "# Evaluate on the test dataset\n",
    "val_dataset = CustomDataset('validation.csv', 'final/validation_images', transform=data_transforms)\n",
    "val_loader = torch.utils.data.DataLoader(val_dataset, batch_size=32, shuffle=False)\n",
    "\n",
    "best_model.eval()\n",
    "correct = 0\n",
    "total = 0\n",
    "\n",
    "with torch.no_grad():\n",
    "    for images, labels in val_loader:\n",
    "        images = images.to(device)\n",
    "        labels = labels.to(device)\n",
    "        outputs = best_model(images)\n",
    "        _, predicted = torch.max(outputs.data, 1)\n",
    "        total += labels.size(0)\n",
    "        correct += (predicted == labels).sum().item()\n",
    "\n",
    "val_accuracy = 100 * correct / total\n",
    "print(f\"Validation Accuracy: {val_accuracy:.2f}%\")\n"
   ]
  },
  {
   "cell_type": "code",
   "execution_count": null,
   "id": "5fde2a62-baab-4725-82ef-7d21b2963db1",
   "metadata": {},
   "outputs": [],
   "source": []
  }
 ],
 "metadata": {
  "colab": {
   "provenance": []
  },
  "environment": {
   "kernel": "python3",
   "name": "pytorch-gpu.1-13.m108",
   "type": "gcloud",
   "uri": "gcr.io/deeplearning-platform-release/pytorch-gpu.1-13:m108"
  },
  "kernelspec": {
   "display_name": "Python 3",
   "language": "python",
   "name": "python3"
  },
  "language_info": {
   "codemirror_mode": {
    "name": "ipython",
    "version": 3
   },
   "file_extension": ".py",
   "mimetype": "text/x-python",
   "name": "python",
   "nbconvert_exporter": "python",
   "pygments_lexer": "ipython3",
   "version": "3.7.12"
  }
 },
 "nbformat": 4,
 "nbformat_minor": 5
}
