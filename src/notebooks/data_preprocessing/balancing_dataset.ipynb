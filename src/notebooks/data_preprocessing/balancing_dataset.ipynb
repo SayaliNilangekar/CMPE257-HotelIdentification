{
 "cells": [
  {
   "cell_type": "code",
   "execution_count": 1,
   "metadata": {
    "_cell_guid": "b1076dfc-b9ad-4769-8c92-a6c4dae69d19",
    "_uuid": "8f2839f25d086af736a60e9eeb907d3b93b6e0e5",
    "tags": []
   },
   "outputs": [],
   "source": [
    "import os\n",
    "import numpy as np \n",
    "import pandas as pd\n",
    "import random\n",
    "import shutil\n",
    "import matplotlib.pyplot as plt\n",
    "from sklearn.model_selection import train_test_split"
   ]
  },
  {
   "cell_type": "code",
   "execution_count": 2,
   "metadata": {
    "tags": []
   },
   "outputs": [],
   "source": [
    "# !pip install opencv-python\n",
    "import cv2"
   ]
  },
  {
   "cell_type": "code",
   "execution_count": 3,
   "metadata": {},
   "outputs": [],
   "source": [
    "df1 = pd.read_csv('hotel_to_imagecount_mapping.csv')"
   ]
  },
  {
   "cell_type": "code",
   "execution_count": 4,
   "metadata": {},
   "outputs": [],
   "source": [
    "df2 = pd.read_csv('image_to_hotel_mapping.csv')"
   ]
  },
  {
   "cell_type": "code",
   "execution_count": 5,
   "metadata": {},
   "outputs": [
    {
     "data": {
      "text/html": [
       "<div>\n",
       "<style scoped>\n",
       "    .dataframe tbody tr th:only-of-type {\n",
       "        vertical-align: middle;\n",
       "    }\n",
       "\n",
       "    .dataframe tbody tr th {\n",
       "        vertical-align: top;\n",
       "    }\n",
       "\n",
       "    .dataframe thead th {\n",
       "        text-align: right;\n",
       "    }\n",
       "</style>\n",
       "<table border=\"1\" class=\"dataframe\">\n",
       "  <thead>\n",
       "    <tr style=\"text-align: right;\">\n",
       "      <th></th>\n",
       "      <th>hotel_id</th>\n",
       "      <th>count</th>\n",
       "    </tr>\n",
       "  </thead>\n",
       "  <tbody>\n",
       "    <tr>\n",
       "      <th>0</th>\n",
       "      <td>10684</td>\n",
       "      <td>21</td>\n",
       "    </tr>\n",
       "    <tr>\n",
       "      <th>1</th>\n",
       "      <td>6213</td>\n",
       "      <td>8</td>\n",
       "    </tr>\n",
       "    <tr>\n",
       "      <th>2</th>\n",
       "      <td>199664</td>\n",
       "      <td>20</td>\n",
       "    </tr>\n",
       "    <tr>\n",
       "      <th>3</th>\n",
       "      <td>103319</td>\n",
       "      <td>16</td>\n",
       "    </tr>\n",
       "    <tr>\n",
       "      <th>4</th>\n",
       "      <td>29562</td>\n",
       "      <td>12</td>\n",
       "    </tr>\n",
       "    <tr>\n",
       "      <th>...</th>\n",
       "      <td>...</td>\n",
       "      <td>...</td>\n",
       "    </tr>\n",
       "    <tr>\n",
       "      <th>3111</th>\n",
       "      <td>38940</td>\n",
       "      <td>10</td>\n",
       "    </tr>\n",
       "    <tr>\n",
       "      <th>3112</th>\n",
       "      <td>306466</td>\n",
       "      <td>4</td>\n",
       "    </tr>\n",
       "    <tr>\n",
       "      <th>3113</th>\n",
       "      <td>310203</td>\n",
       "      <td>8</td>\n",
       "    </tr>\n",
       "    <tr>\n",
       "      <th>3114</th>\n",
       "      <td>21582</td>\n",
       "      <td>4</td>\n",
       "    </tr>\n",
       "    <tr>\n",
       "      <th>3115</th>\n",
       "      <td>1009</td>\n",
       "      <td>20</td>\n",
       "    </tr>\n",
       "  </tbody>\n",
       "</table>\n",
       "<p>3116 rows × 2 columns</p>\n",
       "</div>"
      ],
      "text/plain": [
       "      hotel_id  count\n",
       "0        10684     21\n",
       "1         6213      8\n",
       "2       199664     20\n",
       "3       103319     16\n",
       "4        29562     12\n",
       "...        ...    ...\n",
       "3111     38940     10\n",
       "3112    306466      4\n",
       "3113    310203      8\n",
       "3114     21582      4\n",
       "3115      1009     20\n",
       "\n",
       "[3116 rows x 2 columns]"
      ]
     },
     "execution_count": 5,
     "metadata": {},
     "output_type": "execute_result"
    }
   ],
   "source": [
    "df1"
   ]
  },
  {
   "cell_type": "code",
   "execution_count": 6,
   "metadata": {},
   "outputs": [
    {
     "data": {
      "text/html": [
       "<div>\n",
       "<style scoped>\n",
       "    .dataframe tbody tr th:only-of-type {\n",
       "        vertical-align: middle;\n",
       "    }\n",
       "\n",
       "    .dataframe tbody tr th {\n",
       "        vertical-align: top;\n",
       "    }\n",
       "\n",
       "    .dataframe thead th {\n",
       "        text-align: right;\n",
       "    }\n",
       "</style>\n",
       "<table border=\"1\" class=\"dataframe\">\n",
       "  <thead>\n",
       "    <tr style=\"text-align: right;\">\n",
       "      <th></th>\n",
       "      <th>image_id</th>\n",
       "      <th>hotel_id</th>\n",
       "    </tr>\n",
       "  </thead>\n",
       "  <tbody>\n",
       "    <tr>\n",
       "      <th>0</th>\n",
       "      <td>000011648.jpg</td>\n",
       "      <td>15526</td>\n",
       "    </tr>\n",
       "    <tr>\n",
       "      <th>1</th>\n",
       "      <td>000011630.jpg</td>\n",
       "      <td>15526</td>\n",
       "    </tr>\n",
       "    <tr>\n",
       "      <th>2</th>\n",
       "      <td>000011650.jpg</td>\n",
       "      <td>15526</td>\n",
       "    </tr>\n",
       "    <tr>\n",
       "      <th>3</th>\n",
       "      <td>000011633.jpg</td>\n",
       "      <td>15526</td>\n",
       "    </tr>\n",
       "    <tr>\n",
       "      <th>4</th>\n",
       "      <td>000011656.jpg</td>\n",
       "      <td>15526</td>\n",
       "    </tr>\n",
       "  </tbody>\n",
       "</table>\n",
       "</div>"
      ],
      "text/plain": [
       "        image_id  hotel_id\n",
       "0  000011648.jpg     15526\n",
       "1  000011630.jpg     15526\n",
       "2  000011650.jpg     15526\n",
       "3  000011633.jpg     15526\n",
       "4  000011656.jpg     15526"
      ]
     },
     "execution_count": 6,
     "metadata": {},
     "output_type": "execute_result"
    }
   ],
   "source": [
    "df2.head()"
   ]
  },
  {
   "cell_type": "code",
   "execution_count": 7,
   "metadata": {
    "tags": []
   },
   "outputs": [
    {
     "name": "stdout",
     "output_type": "stream",
     "text": [
      "total number of images:  44702\n",
      "maximum number of images for a hotel:  1393\n",
      "minimum number of images for a hotel:  1\n",
      "average number of images for a hotel:  14.345956354300386\n"
     ]
    }
   ],
   "source": [
    "s = df1['count'].sum()\n",
    "print('total number of images: ', s)\n",
    "mx= df1['count'].max()\n",
    "print('maximum number of images for a hotel: ', mx)\n",
    "mn = df1['count'].min()\n",
    "print('minimum number of images for a hotel: ', mn)\n",
    "mean = df1['count'].mean()\n",
    "print('average number of images for a hotel: ', mean)\n"
   ]
  },
  {
   "cell_type": "code",
   "execution_count": 8,
   "metadata": {
    "tags": []
   },
   "outputs": [
    {
     "data": {
      "text/plain": [
       "(256, 256, 3)"
      ]
     },
     "execution_count": 8,
     "metadata": {},
     "output_type": "execute_result"
    }
   ],
   "source": [
    "new_img = cv2.imread('resized_train_images_256/100143/000007991.jpg')\n",
    "new_img.shape"
   ]
  },
  {
   "cell_type": "markdown",
   "metadata": {},
   "source": [
    "## Augmenting images<mean for each hotel_id"
   ]
  },
  {
   "cell_type": "markdown",
   "metadata": {},
   "source": [
    "Creating a list to store image_paths where count is less than 14"
   ]
  },
  {
   "cell_type": "code",
   "execution_count": 9,
   "metadata": {},
   "outputs": [],
   "source": [
    "mean_count = 14\n",
    "path = 'resized_train_images_256'\n",
    "\n",
    "# Get list of hotel IDs\n",
    "hotel_id_list = df1['hotel_id'].tolist()\n",
    "\n",
    "count = 0\n",
    "minority = []\n",
    "minority_images_label = []\n",
    "# minority_image = []\n",
    "minority_image_list = []\n",
    "\n",
    "for hotel_id in hotel_id_list:\n",
    "    # Get count for current hotel ID\n",
    "    val = df1[df1['hotel_id'] == hotel_id]['count'].values[0]\n",
    "    \n",
    "    if val <= mean_count:\n",
    "        count += 1\n",
    "        path_min = os.path.join(path, str(hotel_id))\n",
    "        \n",
    "        for filename in os.listdir(path_min):\n",
    "            minority_image_list.append(os.path.join(path_min, filename))\n",
    "            # img = cv2.imread(p)\n",
    "            # minority_image.append(img)\n",
    "            minority_images_label.append(hotel_id)"
   ]
  },
  {
   "cell_type": "code",
   "execution_count": 10,
   "metadata": {
    "tags": []
   },
   "outputs": [
    {
     "data": {
      "text/plain": [
       "18305"
      ]
     },
     "execution_count": 10,
     "metadata": {},
     "output_type": "execute_result"
    }
   ],
   "source": [
    "len(minority_image_list)"
   ]
  },
  {
   "cell_type": "markdown",
   "metadata": {},
   "source": [
    "Functions that describe the different augmentations"
   ]
  },
  {
   "cell_type": "code",
   "execution_count": 11,
   "metadata": {},
   "outputs": [],
   "source": [
    "def rotate(image):\n",
    "    angle = random.randint(-20, 20)\n",
    "    height, width = image.shape[:2]\n",
    "    matrix = cv2.getRotationMatrix2D((width/2, height/2), angle, 1)\n",
    "    rotated_image = cv2.warpAffine(image, matrix, (width, height))\n",
    "    return rotated_image\n",
    "\n",
    "def flip(image):\n",
    "    flip_code = random.randint(-1, 1)\n",
    "    if flip_code == 0:\n",
    "        flipped_image = cv2.flip(image, 1) #horizontal flip\n",
    "    # elif flip_code == 1:\n",
    "    #     flipped_image = cv2.flip(image, 0) #vertical flip\n",
    "    else:\n",
    "        flipped_image = image\n",
    "    return flipped_image\n",
    "\n",
    "def optical_distortion(image):\n",
    "    height, width = image.shape[:2]\n",
    "    fx = random.uniform(0.8, 1.2)\n",
    "    fy = random.uniform(0.8, 1.2)\n",
    "    cx = width/2\n",
    "    cy = height/2\n",
    "    k1 = random.uniform(-0.05, 0.05)\n",
    "    k2 = random.uniform(-0.05, 0.05)\n",
    "    k3 = random.uniform(-0.05, 0.05)\n",
    "    p1 = random.uniform(-0.03, 0.03)\n",
    "    p2 = random.uniform(-0.03, 0.03)\n",
    "    distCoeffs = cv2.UMat(np.array([k1, k2, p1, p2, k3]))\n",
    "    camera_matrix = np.array([[fx*width, 0, cx],\n",
    "                              [0, fy*height, cy],\n",
    "                              [0, 0, 1]], dtype=np.float32)\n",
    "    distorted_image = cv2.undistort(image, camera_matrix, distCoeffs, None)\n",
    "    return distorted_image\n",
    "\n",
    "def gaussian_blur(image):\n",
    "    kernel_size = random.choice([3, 5, 7])  # Randomly choose kernel size\n",
    "    blurred_image = cv2.GaussianBlur(image, (kernel_size, kernel_size), 0)\n",
    "    return blurred_image\n",
    "\n",
    "def color_jitter(image):\n",
    "    brightness_factor = random.uniform(0.7, 1.3)\n",
    "    contrast_factor = random.uniform(0.7, 1.3)\n",
    "    saturation_factor = random.uniform(0.7, 1.3)\n",
    "\n",
    "    hsv_image = cv2.cvtColor(image, cv2.COLOR_BGR2HSV)\n",
    "\n",
    "    hsv_image[:, :, 2] = hsv_image[:, :, 2] * brightness_factor\n",
    "    hsv_image[:, :, 1] = hsv_image[:, :, 1] * contrast_factor\n",
    "    hsv_image[:, :, 0] = hsv_image[:, :, 0] * saturation_factor\n",
    "\n",
    "    augmented_image = cv2.cvtColor(hsv_image, cv2.COLOR_HSV2BGR)\n",
    "    return augmented_image"
   ]
  },
  {
   "cell_type": "markdown",
   "metadata": {},
   "source": [
    "Randomly selecting the augmentation from list of trasnformations and creating a new folder with augmented image+original image (upto 14 images)"
   ]
  },
  {
   "cell_type": "code",
   "execution_count": 12,
   "metadata": {},
   "outputs": [],
   "source": [
    "output_path = 'balanced_undersampled_train_images_256x256'\n",
    "transformations = [rotate, flip, optical_distortion, gaussian_blur, color_jitter]\n",
    "max_augmentations = 14\n",
    "\n",
    "for hotel_id in set(minority_images_label):\n",
    "    # Filter images for the current hotel ID\n",
    "    hotel_images = [img for img, label in zip(minority_image_list, minority_images_label) if label == hotel_id]\n",
    "    \n",
    "    # Check the number of original images for the hotel_id\n",
    "    original_image_count = len(hotel_images)\n",
    "    augmentation_factor = max_augmentations - original_image_count\n",
    "    \n",
    "    hotel_path = os.path.join(output_path, str(hotel_id))\n",
    "    if not os.path.exists(hotel_path):\n",
    "        os.makedirs(hotel_path)\n",
    "    \n",
    "    # Copy the original images to the output folder\n",
    "    for image_path in hotel_images:\n",
    "        shutil.copy2(image_path, hotel_path)\n",
    "    \n",
    "    # Generate additional augmented images\n",
    "    while augmentation_factor > 0:\n",
    "        # Randomly select an image from the hotel images\n",
    "        image_path = random.choice(hotel_images)\n",
    "        img = cv2.imread(image_path)\n",
    "        \n",
    "        # Randomly select a transformation\n",
    "        chosen_transformation = random.choice(transformations)\n",
    "        \n",
    "        transformed_image = chosen_transformation(img)\n",
    "        \n",
    "        # Generate a new filename for the augmented image\n",
    "        full_image_name = image_path.split(\"/\")[-1]\n",
    "        image_name = full_image_name.split(\".\")[0]\n",
    "        file_extension = full_image_name.split(\".\")[-1]\n",
    "        new_image_name = \"{}_augmented_{}.{}\".format(image_name, original_image_count + 1, file_extension)\n",
    "        \n",
    "        cv2.imwrite(os.path.join(hotel_path, new_image_name), transformed_image)\n",
    "        \n",
    "        augmentation_factor -= 1\n",
    "        original_image_count += 1"
   ]
  },
  {
   "cell_type": "markdown",
   "metadata": {},
   "source": [
    "### Downsampling the images>mean for each hotel_id"
   ]
  },
  {
   "cell_type": "code",
   "execution_count": 13,
   "metadata": {},
   "outputs": [
    {
     "name": "stdout",
     "output_type": "stream",
     "text": [
      "Warning: File not found resized_train_images_256/310043/000031905.jpg\n",
      "Warning: File not found resized_train_images_256/30637/000039408.jpg\n",
      "Warning: File not found resized_train_images_256/689762/000000452.jpg\n"
     ]
    }
   ],
   "source": [
    "# df1 is the DataFrame containing columns 'hotel_id' and 'count'\n",
    "# df2 is the DataFrame containing columns 'image_id' and 'hotel_id'\n",
    "\n",
    "source_folder = 'resized_train_images_256'\n",
    "\n",
    "# Identify hotel_id classes with a count higher than the mean (14)\n",
    "threshold = 14\n",
    "classes_to_undersample = df1[df1['count'] > threshold]['hotel_id'].tolist()\n",
    "\n",
    "final_df = pd.DataFrame(columns=['image_id', 'hotel_id'])\n",
    "\n",
    "for hotel_id in classes_to_undersample:\n",
    "    class_df = df2[df2['hotel_id'] == hotel_id].sample(n=threshold, random_state=42)\n",
    "    final_df = pd.concat([final_df, class_df])\n",
    "    \n",
    "destination_folder = 'balanced_oversampled_train_images_256x256'\n",
    "os.makedirs(destination_folder, exist_ok=True)\n",
    "\n",
    "for _, row in final_df.iterrows():\n",
    "    hotel_id = row['hotel_id']\n",
    "    image_id = row['image_id']\n",
    "    \n",
    "    # Create the hotel_id folder if it doesn't exist\n",
    "    hotel_path = os.path.join(destination_folder, str(hotel_id))\n",
    "    if not os.path.exists(hotel_path):\n",
    "        os.makedirs(hotel_path)\n",
    "        \n",
    "    source_path = os.path.join(source_folder, str(hotel_id), str(image_id))\n",
    "    destination_path = os.path.join(hotel_path, str(image_id))\n",
    "    os.makedirs(os.path.dirname(destination_path), exist_ok=True)\n",
    "\n",
    "    # copy the image from source to destination\n",
    "    try:\n",
    "        shutil.copy(source_path, destination_path)\n",
    "    except FileNotFoundError:\n",
    "        print(\"Warning: File not found {}\".format(source_path))\n",
    "        continue"
   ]
  },
  {
   "cell_type": "markdown",
   "metadata": {},
   "source": [
    "### Checking total image counts in both undersampled and oversampled folders"
   ]
  },
  {
   "cell_type": "code",
   "execution_count": 14,
   "metadata": {
    "tags": []
   },
   "outputs": [
    {
     "name": "stdout",
     "output_type": "stream",
     "text": [
      "     hotel_id image_count\n",
      "2310     8629          14\n",
      "20       5905          14\n",
      "302    208254          14\n",
      "1038    37707          14\n",
      "183    201370          14\n",
      "130    197443          14\n",
      "738     13416          14\n",
      "1719   200297          14\n",
      "2110   644634          14\n",
      "2016     4081          14\n",
      "1662   119266          14\n",
      "1445   306733          14\n",
      "615    199511          14\n",
      "58      75136          14\n",
      "174     89987          14\n",
      "2229    17500          14\n",
      "1742   309902          14\n",
      "1803   310276          14\n",
      "1177   207228          14\n",
      "1432   208471          14\n",
      "1775    95726          14\n",
      "262     21582          14\n",
      "177     86397          14\n",
      "1782   274117          14\n",
      "1634   310971          14\n",
      "1759    31512          14\n",
      "2052    26003          14\n",
      "607     85237          14\n",
      "637    309954          14\n",
      "1009    16202          14\n",
      "650    199257          14\n",
      "1115    66541          14\n",
      "417    306424          14\n",
      "1564   676252          14\n",
      "256     20272          14\n",
      "155     26959          14\n",
      "1049   309816          14\n",
      "1252    21108          14\n",
      "1002    14175          14\n",
      "399      3476          14\n",
      "371     34567          14\n",
      "1405    84105          14\n",
      "1687    76535          14\n",
      "1583     7606          14\n",
      "794     21850          14\n",
      "400     89114          14\n",
      "654     18032          14\n",
      "1827   690181          14\n",
      "617    197746          14\n",
      "1875    16157          14\n"
     ]
    }
   ],
   "source": [
    "destination_folder = 'balanced_undersampled_train_images_256x256'\n",
    "image_counts_df = pd.DataFrame(columns=['hotel_id', 'image_count'])\n",
    "\n",
    "for root, dirs, files in os.walk(destination_folder):\n",
    "    for hotel_id in dirs:\n",
    "        hotel_path = os.path.join(root, hotel_id)\n",
    "        image_count = len(os.listdir(hotel_path))\n",
    "        image_counts_df = image_counts_df.append({'hotel_id': hotel_id, 'image_count': image_count}, ignore_index=True)\n",
    "\n",
    "# Display the image counts DataFrame\n",
    "print(image_counts_df.sample(50))"
   ]
  },
  {
   "cell_type": "code",
   "execution_count": 15,
   "metadata": {},
   "outputs": [
    {
     "data": {
      "text/plain": [
       "14.0"
      ]
     },
     "execution_count": 15,
     "metadata": {},
     "output_type": "execute_result"
    }
   ],
   "source": [
    "np.mean(image_count)"
   ]
  },
  {
   "cell_type": "code",
   "execution_count": 16,
   "metadata": {},
   "outputs": [
    {
     "data": {
      "text/plain": [
       "14"
      ]
     },
     "execution_count": 16,
     "metadata": {},
     "output_type": "execute_result"
    }
   ],
   "source": [
    "np.max(image_count)"
   ]
  },
  {
   "cell_type": "code",
   "execution_count": 17,
   "metadata": {},
   "outputs": [
    {
     "data": {
      "text/plain": [
       "14"
      ]
     },
     "execution_count": 17,
     "metadata": {},
     "output_type": "execute_result"
    }
   ],
   "source": [
    "np.min(image_count)"
   ]
  },
  {
   "cell_type": "code",
   "execution_count": 18,
   "metadata": {
    "tags": []
   },
   "outputs": [
    {
     "name": "stdout",
     "output_type": "stream",
     "text": [
      "    hotel_id image_count\n",
      "58    117083          14\n",
      "673    17717          14\n",
      "634    12016          14\n",
      "606   197432          14\n",
      "491   459382          14\n",
      "545    23668          14\n",
      "17     76931          14\n",
      "516    18801          14\n",
      "648   199295          14\n",
      "713    18093          14\n",
      "124    15078          14\n",
      "561   310976          14\n",
      "285    13253          14\n",
      "656    78805          14\n",
      "22       546          14\n",
      "201   110119          14\n",
      "220    27858          14\n",
      "642    12108          14\n",
      "601    19899          14\n",
      "761     6514          14\n",
      "85      4389          14\n",
      "458   202992          14\n",
      "368     3631          14\n",
      "68     39400          14\n",
      "382     4572          14\n",
      "74     37890          14\n",
      "589    98841          14\n",
      "132    16666          14\n",
      "238     1562          14\n",
      "342    56572          14\n",
      "548    91129          14\n",
      "401    21235          14\n",
      "111    76693          14\n",
      "765    93803          14\n",
      "775    22789          14\n",
      "751   308350          14\n",
      "115   115775          14\n",
      "266     9021          14\n",
      "263   127242          14\n",
      "724    38790          14\n",
      "397   104342          14\n",
      "677   228181          14\n",
      "760    39520          14\n",
      "445    16160          14\n",
      "678    34906          14\n",
      "689     3313          14\n",
      "399    93710          14\n",
      "349   144869          14\n",
      "591    80089          14\n",
      "629      945          14\n"
     ]
    }
   ],
   "source": [
    "destination_folder = 'balanced_oversampled_train_images_256x256'\n",
    "image_counts_df = pd.DataFrame(columns=['hotel_id', 'image_count'])\n",
    "\n",
    "for root, dirs, files in os.walk(destination_folder):\n",
    "    for hotel_id in dirs:\n",
    "        hotel_path = os.path.join(root, hotel_id)\n",
    "        # print(hotel_path)\n",
    "        image_count = len(os.listdir(hotel_path))\n",
    "        image_counts_df = image_counts_df.append({'hotel_id': hotel_id, 'image_count': image_count}, ignore_index=True)\n",
    "\n",
    "# Display the image counts DataFrame\n",
    "print(image_counts_df.sample(50))"
   ]
  },
  {
   "cell_type": "code",
   "execution_count": 19,
   "metadata": {},
   "outputs": [
    {
     "data": {
      "text/plain": [
       "14.0"
      ]
     },
     "execution_count": 19,
     "metadata": {},
     "output_type": "execute_result"
    }
   ],
   "source": [
    "np.mean(image_count)"
   ]
  },
  {
   "cell_type": "markdown",
   "metadata": {},
   "source": [
    "## Creating Final Balanced Folder "
   ]
  },
  {
   "cell_type": "markdown",
   "metadata": {},
   "source": [
    "Creating a final folder which has all augmented+downsampeld images"
   ]
  },
  {
   "cell_type": "code",
   "execution_count": 20,
   "metadata": {},
   "outputs": [],
   "source": [
    "folder1_path = 'balanced_undersampled_train_images_256x256'\n",
    "folder2_path = 'balanced_oversampled_train_images_256x256'\n",
    "\n",
    "new_folder_path = 'final_balanced_train_images_256x256'\n",
    "\n",
    "if not os.path.exists(new_folder_path):\n",
    "    os.makedirs(new_folder_path)\n",
    "\n",
    "for root, _, files in os.walk(folder1_path):\n",
    "    relative_path = os.path.relpath(root, folder1_path)\n",
    "    new_subdirectory = os.path.join(new_folder_path, relative_path)\n",
    "\n",
    "    if not os.path.exists(new_subdirectory):\n",
    "        os.makedirs(new_subdirectory)\n",
    "\n",
    "    for file in files:\n",
    "        file_path = os.path.join(root, file)\n",
    "        shutil.copy(file_path, new_subdirectory)\n",
    "\n",
    "for root, _, files in os.walk(folder2_path):\n",
    "    relative_path = os.path.relpath(root, folder2_path)\n",
    "    new_subdirectory = os.path.join(new_folder_path, relative_path)\n",
    "\n",
    "    if not os.path.exists(new_subdirectory):\n",
    "        os.makedirs(new_subdirectory)\n",
    "\n",
    "    for file in files:\n",
    "        file_path = os.path.join(root, file)\n",
    "        shutil.copy(file_path, new_subdirectory)"
   ]
  },
  {
   "cell_type": "markdown",
   "metadata": {},
   "source": [
    "Checking final folder stats"
   ]
  },
  {
   "cell_type": "code",
   "execution_count": 21,
   "metadata": {
    "tags": []
   },
   "outputs": [
    {
     "name": "stdout",
     "output_type": "stream",
     "text": [
      "Total number of images after Balancing:  43621\n",
      "     hotel_id image_count\n",
      "2546     3518          14\n",
      "2996     3096          14\n",
      "1895   249786          14\n",
      "657    200039          14\n",
      "1507    12994          14\n",
      "1159     3236          14\n",
      "764     43372          14\n",
      "578     32635          14\n",
      "1200    88414          14\n",
      "2762    94762          14\n"
     ]
    }
   ],
   "source": [
    "destination_folder = 'final_balanced_train_images_256x256'\n",
    "image_counts_df = pd.DataFrame(columns=['hotel_id', 'image_count'])\n",
    "\n",
    "for root, dirs, files in os.walk(destination_folder):\n",
    "    for hotel_id in dirs:\n",
    "        hotel_path = os.path.join(root, hotel_id)\n",
    "        # print(hotel_path)\n",
    "        image_count = len(os.listdir(hotel_path))\n",
    "        image_counts_df = image_counts_df.append({'hotel_id': hotel_id, 'image_count': image_count}, ignore_index=True)\n",
    "\n",
    "# Total number of images after Balancing\n",
    "print('Total number of images after Balancing: ', image_counts_df['image_count'].sum())\n",
    "# Display the image counts DataFrame\n",
    "print(image_counts_df.sample(10))"
   ]
  },
  {
   "cell_type": "markdown",
   "metadata": {},
   "source": [
    "## Creating new csv's for 1] image to hotel mapping and 2] hotelid and image count after balancing"
   ]
  },
  {
   "cell_type": "code",
   "execution_count": 22,
   "metadata": {},
   "outputs": [],
   "source": [
    "hotel_list = []\n",
    "for dirname, _, filenames in os.walk('final_balanced_train_images_256x256'):\n",
    "    for filename in filenames:\n",
    "        hotel_list.append(os.path.join(dirname, filename))"
   ]
  },
  {
   "cell_type": "code",
   "execution_count": 23,
   "metadata": {},
   "outputs": [],
   "source": [
    "image_id = []\n",
    "hotel_id = []"
   ]
  },
  {
   "cell_type": "code",
   "execution_count": 24,
   "metadata": {},
   "outputs": [],
   "source": [
    "for i in hotel_list:\n",
    "    image_id.append(str(i.split('/')[-1]))\n",
    "    hotel_id.append(str(i.split('/')[-2]))"
   ]
  },
  {
   "cell_type": "code",
   "execution_count": 25,
   "metadata": {},
   "outputs": [],
   "source": [
    "no_of_images_per_hotel = {val: hotel_id.count(val) for val in set(hotel_id)}"
   ]
  },
  {
   "cell_type": "code",
   "execution_count": 26,
   "metadata": {},
   "outputs": [],
   "source": [
    "df = pd.DataFrame(columns=['image_id','hotel_id'])"
   ]
  },
  {
   "cell_type": "code",
   "execution_count": 28,
   "metadata": {},
   "outputs": [],
   "source": [
    "df['image_id'] = image_id\n",
    "df['hotel_id'] = hotel_id\n",
    "df.to_csv('updated_image_to_hotel_mapping.csv',index=False)"
   ]
  },
  {
   "cell_type": "code",
   "execution_count": 29,
   "metadata": {},
   "outputs": [],
   "source": [
    "df2 = pd.DataFrame(columns=['hotel_id','count'])"
   ]
  },
  {
   "cell_type": "code",
   "execution_count": 30,
   "metadata": {},
   "outputs": [],
   "source": [
    "lisKey = []\n",
    "lisVal = []\n",
    "for key,val in no_of_images_per_hotel.items():\n",
    "    lisKey.append(key)\n",
    "    lisVal.append(val)\n",
    "df2['hotel_id'] = lisKey\n",
    "df2['count'] = lisVal\n",
    "df2.to_csv('updated_hotel_to_imagecount_mapping.csv',index=False)"
   ]
  }
 ],
 "metadata": {
  "environment": {
   "kernel": "python3",
   "name": "pytorch-gpu.1-13.m108",
   "type": "gcloud",
   "uri": "gcr.io/deeplearning-platform-release/pytorch-gpu.1-13:m108"
  },
  "kernelspec": {
   "display_name": "Python 3",
   "language": "python",
   "name": "python3"
  },
  "language_info": {
   "codemirror_mode": {
    "name": "ipython",
    "version": 3
   },
   "file_extension": ".py",
   "mimetype": "text/x-python",
   "name": "python",
   "nbconvert_exporter": "python",
   "pygments_lexer": "ipython3",
   "version": "3.7.12"
  }
 },
 "nbformat": 4,
 "nbformat_minor": 4
}
