{
 "cells": [
  {
   "cell_type": "code",
   "execution_count": 1,
   "id": "037a37fd-32dd-4c98-aad8-678ce1ff425d",
   "metadata": {},
   "outputs": [],
   "source": [
    "import os\n",
    "import shutil\n",
    "import random\n",
    "import pandas as pd"
   ]
  },
  {
   "cell_type": "code",
   "execution_count": 2,
   "id": "f5fefb37-50e9-4c38-9205-13737e9ecf74",
   "metadata": {},
   "outputs": [],
   "source": [
    "image_folder = 'final_balanced_train_images_256x256'\n",
    "csv_file = 'updated_image_to_hotel_mapping.csv'"
   ]
  },
  {
   "cell_type": "code",
   "execution_count": 3,
   "id": "eda4edb5-043c-421b-a0a4-b5088f213b6f",
   "metadata": {},
   "outputs": [],
   "source": [
    "# Minimum number of images per hotel ID in the train set\n",
    "min_images_per_hotel = 11\n",
    "\n",
    "# Create final folder to store train and validation folders\n",
    "os.makedirs('final', exist_ok=True)\n",
    "\n",
    "# Destination folders for train and validation images\n",
    "train_folder = 'final/train_images'\n",
    "validation_folder = 'final/validation_images'\n",
    "\n",
    "# Create the destination folders if they don't exist\n",
    "os.makedirs(train_folder, exist_ok=True)\n",
    "os.makedirs(validation_folder, exist_ok=True)"
   ]
  },
  {
   "cell_type": "markdown",
   "id": "ca738ee4-7501-4552-979c-12deea845482",
   "metadata": {},
   "source": [
    "## Splitting data into train and val folders"
   ]
  },
  {
   "cell_type": "code",
   "execution_count": 4,
   "id": "73a7081e-8cc5-4047-9bd1-fd573d567f0c",
   "metadata": {},
   "outputs": [
    {
     "name": "stdout",
     "output_type": "stream",
     "text": [
      "Number of images in train set: 34276\n",
      "Number of images in validation set: 9345\n"
     ]
    }
   ],
   "source": [
    "data = pd.read_csv(csv_file)\n",
    "\n",
    "hotel_groups = data.groupby('hotel_id')\n",
    "\n",
    "train_data = []\n",
    "validation_data = []\n",
    "\n",
    "for hotel_id, group in hotel_groups:\n",
    "    image_ids = group['image_id'].tolist()\n",
    "\n",
    "    random.shuffle(image_ids)\n",
    "\n",
    "    # Check if the hotel has enough images for the train set\n",
    "    if len(image_ids) >= min_images_per_hotel:\n",
    "        train_data.extend(image_ids[:min_images_per_hotel])\n",
    "        validation_data.extend(image_ids[min_images_per_hotel:])\n",
    "    else:\n",
    "        validation_data.extend(image_ids)\n",
    "\n",
    "# Function to copy images to the destination folder\n",
    "def copy_images(source_folder, destination_folder, image_ids):\n",
    "    for image_id in image_ids:\n",
    "        hotel_id = data.loc[data['image_id'] == image_id, 'hotel_id'].iloc[0]\n",
    "        src_path = os.path.join(source_folder, str(hotel_id), image_id)\n",
    "        dst_path = os.path.join(destination_folder, str(hotel_id), image_id)\n",
    "        os.makedirs(os.path.dirname(dst_path), exist_ok=True)\n",
    "        shutil.copy(src_path, dst_path)\n",
    "\n",
    "# Copy train and validation images\n",
    "copy_images(image_folder, train_folder, train_data)\n",
    "copy_images(image_folder, validation_folder, validation_data)\n",
    "\n",
    "num_train_images = len(train_data)\n",
    "num_validation_images = len(validation_data)\n",
    "\n",
    "print(f\"Number of images in train set: {num_train_images}\")\n",
    "print(f\"Number of images in validation set: {num_validation_images}\")"
   ]
  },
  {
   "cell_type": "markdown",
   "id": "add1040c-8ef8-47a2-95c4-c331cbf1f455",
   "metadata": {},
   "source": [
    "## Create csv's for train and val data"
   ]
  },
  {
   "cell_type": "code",
   "execution_count": 5,
   "id": "ea5d7d5a-8b92-4eed-88bd-4de8ed440610",
   "metadata": {},
   "outputs": [],
   "source": [
    "hotel_list = []\n",
    "for dirname, _, filenames in os.walk('final/train_images'):\n",
    "    for filename in filenames:\n",
    "        hotel_list.append(os.path.join(dirname, filename))"
   ]
  },
  {
   "cell_type": "code",
   "execution_count": 6,
   "id": "ff537203-f95c-4f04-893f-48daa852ec0c",
   "metadata": {},
   "outputs": [],
   "source": [
    "image_id = []\n",
    "hotel_id = []"
   ]
  },
  {
   "cell_type": "code",
   "execution_count": 7,
   "id": "368bd1da-b528-4cfa-8910-b455787b8887",
   "metadata": {},
   "outputs": [],
   "source": [
    "for i in hotel_list:\n",
    "    image_id.append(str(i.split('/')[-1]))\n",
    "    hotel_id.append(str(i.split('/')[-2]))"
   ]
  },
  {
   "cell_type": "code",
   "execution_count": 8,
   "id": "f4010ac3-ed77-4277-99d4-8d45ed247364",
   "metadata": {},
   "outputs": [],
   "source": [
    "no_of_images_per_hotel = {val: hotel_id.count(val) for val in set(hotel_id)}"
   ]
  },
  {
   "cell_type": "code",
   "execution_count": 9,
   "id": "cbb831d0-b4cc-432c-95b7-f17940c310dc",
   "metadata": {},
   "outputs": [],
   "source": [
    "df = pd.DataFrame(columns=['image_id','hotel_id'])"
   ]
  },
  {
   "cell_type": "code",
   "execution_count": 10,
   "id": "a7ceb752-a997-4301-8345-de88276de741",
   "metadata": {},
   "outputs": [],
   "source": [
    "df['image_id'] = image_id\n",
    "df['hotel_id'] = hotel_id\n",
    "df.to_csv('train.csv',index=False)"
   ]
  },
  {
   "cell_type": "code",
   "execution_count": 11,
   "id": "64bba9a0-1eb6-4dcd-9fc2-5a9c652b51cc",
   "metadata": {},
   "outputs": [
    {
     "data": {
      "text/plain": [
       "3116"
      ]
     },
     "execution_count": 11,
     "metadata": {},
     "output_type": "execute_result"
    }
   ],
   "source": [
    "df['hotel_id'].nunique() "
   ]
  },
  {
   "cell_type": "code",
   "execution_count": 12,
   "id": "71b4d243-e1b8-4f05-9d46-4f538d264448",
   "metadata": {},
   "outputs": [],
   "source": [
    "hotel_list = []\n",
    "for dirname, _, filenames in os.walk('final/validation_images'):\n",
    "    for filename in filenames:\n",
    "        hotel_list.append(os.path.join(dirname, filename))"
   ]
  },
  {
   "cell_type": "code",
   "execution_count": 13,
   "id": "5d989935-8e71-4fd5-95bc-796f5ee6d876",
   "metadata": {},
   "outputs": [],
   "source": [
    "image_id = []\n",
    "hotel_id = []"
   ]
  },
  {
   "cell_type": "code",
   "execution_count": 14,
   "id": "b67bfe4c-34df-4ac2-a4aa-b605f21231a9",
   "metadata": {},
   "outputs": [],
   "source": [
    "for i in hotel_list:\n",
    "    image_id.append(str(i.split('/')[-1]))\n",
    "    hotel_id.append(str(i.split('/')[-2]))"
   ]
  },
  {
   "cell_type": "code",
   "execution_count": 15,
   "id": "8d90dba4-eb5b-4e22-ab08-9cea2100fbb1",
   "metadata": {},
   "outputs": [],
   "source": [
    "df = pd.DataFrame(columns=['image_id','hotel_id'])"
   ]
  },
  {
   "cell_type": "code",
   "execution_count": 16,
   "id": "0fa316ed-27f8-4549-9411-4903b6d92e70",
   "metadata": {},
   "outputs": [],
   "source": [
    "df['image_id'] = image_id\n",
    "df['hotel_id'] = hotel_id\n",
    "df.to_csv('validation.csv',index=False)"
   ]
  },
  {
   "cell_type": "code",
   "execution_count": 17,
   "id": "55b27bcf-3bac-4a01-859d-06df380d40bf",
   "metadata": {},
   "outputs": [
    {
     "data": {
      "text/plain": [
       "3116"
      ]
     },
     "execution_count": 17,
     "metadata": {},
     "output_type": "execute_result"
    }
   ],
   "source": [
    "df['hotel_id'].nunique() "
   ]
  },
  {
   "cell_type": "code",
   "execution_count": null,
   "id": "8d27904f-ea59-43c3-aafc-c6908adf10cc",
   "metadata": {},
   "outputs": [],
   "source": []
  },
  {
   "cell_type": "code",
   "execution_count": null,
   "id": "226deaec-c6c8-45d3-b821-cb70b661246c",
   "metadata": {},
   "outputs": [],
   "source": []
  },
  {
   "cell_type": "code",
   "execution_count": null,
   "id": "6ac94902-9bce-4d64-93dd-3ed7d3640e1a",
   "metadata": {},
   "outputs": [],
   "source": []
  },
  {
   "cell_type": "code",
   "execution_count": null,
   "id": "d8dc7972-1e0f-47b1-ad79-471a13e14ff5",
   "metadata": {},
   "outputs": [],
   "source": []
  },
  {
   "cell_type": "code",
   "execution_count": null,
   "id": "97ec80f6-8ac2-4434-81d4-56604be6811c",
   "metadata": {},
   "outputs": [],
   "source": [
    "# import os\n",
    "# import random\n",
    "# import shutil\n",
    "# import pandas as pd\n",
    "\n",
    "# # Path to the original image folder\n",
    "# image_folder = 'final_balanced_train_images_256x256'\n",
    "\n",
    "# # Path to the original CSV file\n",
    "# csv_file = 'updated_image_to_hotel_mapping.csv'\n",
    "\n",
    "# # Number of images for the test folder\n",
    "# test_images = 500\n",
    "\n",
    "# # Train-validation split ratio\n",
    "# train_ratio = 0.7\n",
    "# validation_ratio = 0.2\n",
    "\n",
    "# # Create final folder to store train, test, and validation folders\n",
    "# os.makedirs('final', exist_ok=True)\n",
    "\n",
    "# # Destination folders for train, test, and validation images\n",
    "# train_folder = 'final/train_images'\n",
    "# test_folder = 'final/test_images'\n",
    "# validation_folder = 'final/validation_images'\n",
    "\n",
    "# # Create the destination folders if they don't exist\n",
    "# os.makedirs(train_folder, exist_ok=True)\n",
    "# os.makedirs(test_folder, exist_ok=True)\n",
    "# os.makedirs(validation_folder, exist_ok=True)\n",
    "\n",
    "# # Read the CSV file\n",
    "# data = pd.read_csv(csv_file)\n",
    "\n",
    "# # Get the unique hotel IDs\n",
    "# unique_hotel_ids = data['hotel_id'].unique().tolist()\n",
    "\n",
    "# # Shuffle the hotel IDs randomly\n",
    "# random.shuffle(unique_hotel_ids)\n",
    "\n",
    "# # Split the hotel IDs into train, validation, and test sets\n",
    "# num_hotels = len(unique_hotel_ids)\n",
    "# num_train_hotels = int(train_ratio * num_hotels)\n",
    "# num_validation_hotels = int(validation_ratio * num_hotels)\n",
    "\n",
    "# train_hotel_ids = unique_hotel_ids[:num_train_hotels]\n",
    "# validation_hotel_ids = unique_hotel_ids[num_train_hotels:num_train_hotels+num_validation_hotels]\n",
    "# test_hotel_ids = unique_hotel_ids[num_train_hotels+num_validation_hotels:]\n",
    "\n",
    "# # Function to copy images to the destination folder\n",
    "# def copy_images(source_folder, destination_folder, hotel_ids):\n",
    "#     for hotel_id in hotel_ids:\n",
    "#         hotel_folder = os.path.join(source_folder, str(hotel_id))\n",
    "#         images = os.listdir(hotel_folder)\n",
    "#         for image in images:\n",
    "#             src_path = os.path.join(hotel_folder, image)\n",
    "#             dst_path = os.path.join(destination_folder, str(hotel_id), image)\n",
    "#             os.makedirs(os.path.dirname(dst_path), exist_ok=True)\n",
    "#             shutil.copy(src_path, dst_path)\n",
    "\n",
    "# # Copy train images\n",
    "# copy_images(image_folder, train_folder, train_hotel_ids)\n",
    "\n",
    "# # Copy validation images\n",
    "# copy_images(image_folder, validation_folder, validation_hotel_ids)\n",
    "\n",
    "# # Copy test images\n",
    "# copy_images(image_folder, test_folder, test_hotel_ids)\n",
    "\n",
    "# # Print the number of images in each set\n",
    "# num_train_images = len(os.listdir(train_folder))\n",
    "# num_validation_images = len(os.listdir(validation_folder))\n",
    "# num_test_images = len(os.listdir(test_folder))\n",
    "\n",
    "# print(f\"Number of images in train set: {num_train_images}\")\n",
    "# print(f\"Number of images in validation set: {num_validation_images}\")\n",
    "# print(f\"Number of images in test set: {num_test_images}\")"
   ]
  },
  {
   "cell_type": "code",
   "execution_count": null,
   "id": "622673fd-21e2-4502-9872-8a8e31234a61",
   "metadata": {},
   "outputs": [],
   "source": []
  }
 ],
 "metadata": {
  "environment": {
   "kernel": "python3",
   "name": "pytorch-gpu.1-13.m108",
   "type": "gcloud",
   "uri": "gcr.io/deeplearning-platform-release/pytorch-gpu.1-13:m108"
  },
  "kernelspec": {
   "display_name": "Python 3",
   "language": "python",
   "name": "python3"
  },
  "language_info": {
   "codemirror_mode": {
    "name": "ipython",
    "version": 3
   },
   "file_extension": ".py",
   "mimetype": "text/x-python",
   "name": "python",
   "nbconvert_exporter": "python",
   "pygments_lexer": "ipython3",
   "version": "3.7.12"
  }
 },
 "nbformat": 4,
 "nbformat_minor": 5
}
